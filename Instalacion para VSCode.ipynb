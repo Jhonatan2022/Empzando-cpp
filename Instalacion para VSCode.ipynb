{
 "cells": [
  {
   "attachments": {},
   "cell_type": "markdown",
   "metadata": {},
   "source": [
    "## Aprendiendo c++ en Visual Studio Code\n",
    "\n",
    "1. Primero descargamos el aplicativo VSCode https://code.visualstudio.com/\n",
    "\n",
    "2. Usaremos la siguiente extención \n",
    "\n",
    "![Aprendiendo%20C++\\imagenes\\extencion.png](Aprendiendo%20C++/imagenes/extencion.png)\n",
    "\n",
    "+ Para usar la extención necesitaremos instalar un programa (terminal) en el siguiente enlace https://www.msys2.org/\n",
    "\n",
    "+ Después de instalar el programa lo abriremos y digitaremos el siguiente comando para actualizar los paquetes del sistema ``pacman -Syu``\n",
    "\n",
    "![Aprendiendo%20C++\\imagenes\\terminal.png](Aprendiendo%20C++/imagenes/terminal.png)\n",
    "\n",
    "+ Ahora descargaremos las actualizaciones con ``pacman -Su ``\n",
    "\n",
    "![Aprendiendo%20C++\\imagenes\\actualizar.png](Aprendiendo%20C++/imagenes/actualizar.png)\n",
    "\n",
    "3. Ahora intalaremos las herramientas relacionadas con Mysis2, usando el siguiente comando ``pacman -S --needed base-devel mingw-w64-x86_64-toolchain``\n",
    "\n",
    "4. Agregaremos el path de g++ para poder instalarlo, nos dirjimos a nuestra carpeta de bin y copeamos la dirección en este caso ``C:\\msys64\\mingw64\\bin``\n",
    "\n",
    "+ Dijitamos en la barra de busqueda path y se nos abrita la siguiente ventana \n",
    "\n",
    "![Aprendiendo%20C++\\imagenes\\path.png](Aprendiendo%20C++/imagenes/path.png)\n",
    "\n",
    "+ Nos dirijimos a variables de entorno y en variables del sistema damos doble click en path\n",
    "\n",
    "![Aprendiendo%20C++\\imagenes\\path2.png](Aprendiendo%20C++/imagenes/path2.png)\n",
    "\n",
    "+ Damos click en nuevo y agregamos la dirección que ya copiamos hace un momento\n",
    "\n",
    "![Aprendiendo%20C++\\imagenes\\path3.png](Aprendiendo%20C++/imagenes/path3.png)\n",
    "\n",
    "5. Para certificar que si se implento vamos a nuestra consola y digitamos ``g++ --version``\n",
    "\n",
    "![Aprendiendo%20C++\\imagenes\\corfirmo.png](Aprendiendo%20C++/imagenes/corfirmo.png)\n",
    "\n",
    "6. Por ultimo cerramos nuetro aplicativo Visual Studio Code para que reconozca g++\n",
    "\n"
   ]
  },
  {
   "attachments": {},
   "cell_type": "markdown",
   "metadata": {},
   "source": [
    "## Haciendo primer ejercicio\n",
    "\n",
    "```cpp\n",
    "#include <iostream>\n",
    "\n",
    "using namespace std;\n",
    "\n",
    "int main()\n",
    "{\n",
    "    cout<<\"Hola a todos esto es una prueba\";\n",
    "    return 0;\n",
    "}\n",
    "```\n",
    "\n",
    "1. Para ejercutar el código abrimos la terminal con ctrl + ñ y dijitamos ``g++ nombre del archivo -o y le asignamos el nombre al ejecutable`` como veremos a continuación\n",
    "\n",
    "![Aprendiendo%20C++\\imagenes\\prueba.png](Aprendiendo%20C++/imagenes/prueba.png)\n",
    "\n",
    "![Aprendiendo%20C++\\imagenes\\prueba2.png](Aprendiendo%20C++/imagenes/prueba2.png)\n",
    "\n",
    "2. Y para ejecutarlo dijitamos ``./prueba.exe``\n",
    "\n",
    "![Aprendiendo%20C++\\imagenes\\final.png](Aprendiendo%20C++/imagenes/final.png)\n"
   ]
  }
 ],
 "metadata": {
  "kernelspec": {
   "display_name": "Python 3.10.8 64-bit",
   "language": "python",
   "name": "python3"
  },
  "language_info": {
   "codemirror_mode": {
    "name": "ipython",
    "version": 3
   },
   "file_extension": ".py",
   "mimetype": "text/x-python",
   "name": "python",
   "nbconvert_exporter": "python",
   "pygments_lexer": "ipython3",
   "version": "3.10.8 (tags/v3.10.8:aaaf517, Oct 11 2022, 16:50:30) [MSC v.1933 64 bit (AMD64)]"
  },
  "orig_nbformat": 4,
  "vscode": {
   "interpreter": {
    "hash": "472fbeedb143d593a450bd9e85487ed0b7b7bb937fd0ffdfb685f7804c557ff7"
   }
  }
 },
 "nbformat": 4,
 "nbformat_minor": 2
}
